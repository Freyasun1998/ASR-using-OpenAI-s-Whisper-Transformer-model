{
 "cells": [
  {
   "cell_type": "markdown",
   "metadata": {},
   "source": [
    "# Lab 10: Automatic speech recognition (ASR) using OpenAI's Whisper Transformer model\n",
    "\n",
    "### Due Date:\n",
    "\n",
    "Oct 15, 11:59 pm EST\n",
    "\n",
    "### Level of difficulty: \n",
    "Easy\n",
    "\n",
    "### Desription: \n",
    "In this task, you will use [OpenAI's Whisper model](https://openai.com/blog/whisper/) to transcribe your own voice."
   ]
  },
  {
   "cell_type": "markdown",
   "metadata": {},
   "source": [
    "### Task 01 (5 pts) Pick an excerpt from your favorite book\n",
    "\n",
    "Please copy and paste a paragraph from your favorite book into the cell below. This will serve as a ground truth set of labels. "
   ]
  },
  {
   "cell_type": "code",
   "execution_count": 1,
   "metadata": {},
   "outputs": [],
   "source": [
    "# Your code goes here\n",
    "# ...\n",
    "\n",
    "# This is an example passage from the novel \"Dune\".\n",
    "# Try to choose a passage at least as long as the one\n",
    "# below, and one that has reasonably high entropy\n",
    "excerpt = \"\"\"\n",
    "Greatness is a transitory experience. It is never consistent. \n",
    "It depends in part upon the myth-making imagination of humankind. \n",
    "The person who experiences greatness must have a feeling for the \n",
    "myth he is in. He must reflect what is projected upon him. And he \n",
    "must have a strong sense of the sardonic. This is what uncouples \n",
    "him from belief in his own pretensions. The sardonic is all that \n",
    "permits him to move within himself. Without this quality, even \n",
    "occasional greatness will destroy a man.\n",
    "\"\"\""
   ]
  },
  {
   "cell_type": "markdown",
   "metadata": {},
   "source": [
    "#### Model and Setting"
   ]
  },
  {
   "cell_type": "code",
   "execution_count": 3,
   "metadata": {},
   "outputs": [
    {
     "name": "stdout",
     "output_type": "stream",
     "text": [
      "Requirement already satisfied: jiwer in /Users/jieyisun/opt/miniconda3/envs/TF/lib/python3.9/site-packages (2.5.1)\n",
      "Requirement already satisfied: levenshtein==0.20.2 in /Users/jieyisun/opt/miniconda3/envs/TF/lib/python3.9/site-packages (from jiwer) (0.20.2)\n",
      "Requirement already satisfied: rapidfuzz<3.0.0,>=2.3.0 in /Users/jieyisun/opt/miniconda3/envs/TF/lib/python3.9/site-packages (from levenshtein==0.20.2->jiwer) (2.13.2)\n",
      "\n",
      "\u001b[1m[\u001b[0m\u001b[34;49mnotice\u001b[0m\u001b[1;39;49m]\u001b[0m\u001b[39;49m A new release of pip available: \u001b[0m\u001b[31;49m22.3\u001b[0m\u001b[39;49m -> \u001b[0m\u001b[32;49m22.3.1\u001b[0m\n",
      "\u001b[1m[\u001b[0m\u001b[34;49mnotice\u001b[0m\u001b[1;39;49m]\u001b[0m\u001b[39;49m To update, run: \u001b[0m\u001b[32;49mpip install --upgrade pip\u001b[0m\n",
      "Password:\n",
      "sudo: a password is required\n",
      "Requirement already satisfied: sounddevice in /Users/jieyisun/opt/miniconda3/envs/TF/lib/python3.9/site-packages (0.4.5)\n",
      "Requirement already satisfied: CFFI>=1.0 in /Users/jieyisun/opt/miniconda3/envs/TF/lib/python3.9/site-packages (from sounddevice) (1.15.1)\n",
      "Requirement already satisfied: pycparser in /Users/jieyisun/opt/miniconda3/envs/TF/lib/python3.9/site-packages (from CFFI>=1.0->sounddevice) (2.21)\n",
      "\n",
      "\u001b[1m[\u001b[0m\u001b[34;49mnotice\u001b[0m\u001b[1;39;49m]\u001b[0m\u001b[39;49m A new release of pip available: \u001b[0m\u001b[31;49m22.3\u001b[0m\u001b[39;49m -> \u001b[0m\u001b[32;49m22.3.1\u001b[0m\n",
      "\u001b[1m[\u001b[0m\u001b[34;49mnotice\u001b[0m\u001b[1;39;49m]\u001b[0m\u001b[39;49m To update, run: \u001b[0m\u001b[32;49mpip install --upgrade pip\u001b[0m\n"
     ]
    }
   ],
   "source": [
    "! pip install jiwer\n",
    "! sudo apt-get install libportaudio2\n",
    "! pip install sounddevice"
   ]
  },
  {
   "cell_type": "code",
   "execution_count": 19,
   "metadata": {},
   "outputs": [
    {
     "name": "stdout",
     "output_type": "stream",
     "text": [
      "Password:\n",
      "sudo: a password is required\n"
     ]
    }
   ],
   "source": [
    "! sudo apt-get install libportaudio233"
   ]
  },
  {
   "cell_type": "code",
   "execution_count": 24,
   "metadata": {},
   "outputs": [
    {
     "name": "stdout",
     "output_type": "stream",
     "text": [
      "Requirement already satisfied: whisper in /Users/jieyisun/opt/miniconda3/envs/TF/lib/python3.9/site-packages (1.0)\n",
      "Requirement already satisfied: tqdm in /Users/jieyisun/opt/miniconda3/envs/TF/lib/python3.9/site-packages (from whisper) (4.64.1)\n",
      "Requirement already satisfied: more-itertools in /Users/jieyisun/opt/miniconda3/envs/TF/lib/python3.9/site-packages (from whisper) (9.0.0)\n",
      "Requirement already satisfied: transformers>=4.19.0 in /Users/jieyisun/opt/miniconda3/envs/TF/lib/python3.9/site-packages (from whisper) (4.23.1)\n",
      "Requirement already satisfied: torch in /Users/jieyisun/opt/miniconda3/envs/TF/lib/python3.9/site-packages (from whisper) (1.12.1)\n",
      "Requirement already satisfied: numpy in /Users/jieyisun/opt/miniconda3/envs/TF/lib/python3.9/site-packages (from whisper) (1.21.5)\n",
      "Requirement already satisfied: ffmpeg-python==0.2.0 in /Users/jieyisun/opt/miniconda3/envs/TF/lib/python3.9/site-packages (from whisper) (0.2.0)\n",
      "Requirement already satisfied: future in /Users/jieyisun/opt/miniconda3/envs/TF/lib/python3.9/site-packages (from ffmpeg-python==0.2.0->whisper) (0.18.2)\n",
      "Requirement already satisfied: pyyaml>=5.1 in /Users/jieyisun/opt/miniconda3/envs/TF/lib/python3.9/site-packages (from transformers>=4.19.0->whisper) (6.0)\n",
      "Requirement already satisfied: packaging>=20.0 in /Users/jieyisun/opt/miniconda3/envs/TF/lib/python3.9/site-packages (from transformers>=4.19.0->whisper) (21.3)\n",
      "Requirement already satisfied: filelock in /Users/jieyisun/opt/miniconda3/envs/TF/lib/python3.9/site-packages (from transformers>=4.19.0->whisper) (3.8.0)\n",
      "Requirement already satisfied: tokenizers!=0.11.3,<0.14,>=0.11.1 in /Users/jieyisun/opt/miniconda3/envs/TF/lib/python3.9/site-packages (from transformers>=4.19.0->whisper) (0.13.1)\n",
      "Requirement already satisfied: huggingface-hub<1.0,>=0.10.0 in /Users/jieyisun/opt/miniconda3/envs/TF/lib/python3.9/site-packages (from transformers>=4.19.0->whisper) (0.10.1)\n",
      "Requirement already satisfied: requests in /Users/jieyisun/opt/miniconda3/envs/TF/lib/python3.9/site-packages (from transformers>=4.19.0->whisper) (2.28.1)\n",
      "Requirement already satisfied: regex!=2019.12.17 in /Users/jieyisun/opt/miniconda3/envs/TF/lib/python3.9/site-packages (from transformers>=4.19.0->whisper) (2022.9.11)\n",
      "Requirement already satisfied: typing-extensions in /Users/jieyisun/opt/miniconda3/envs/TF/lib/python3.9/site-packages (from torch->whisper) (4.3.0)\n",
      "Requirement already satisfied: pyparsing!=3.0.5,>=2.0.2 in /Users/jieyisun/opt/miniconda3/envs/TF/lib/python3.9/site-packages (from packaging>=20.0->transformers>=4.19.0->whisper) (3.0.9)\n",
      "Requirement already satisfied: idna<4,>=2.5 in /Users/jieyisun/opt/miniconda3/envs/TF/lib/python3.9/site-packages (from requests->transformers>=4.19.0->whisper) (3.4)\n",
      "Requirement already satisfied: charset-normalizer<3,>=2 in /Users/jieyisun/opt/miniconda3/envs/TF/lib/python3.9/site-packages (from requests->transformers>=4.19.0->whisper) (2.1.1)\n",
      "Requirement already satisfied: certifi>=2017.4.17 in /Users/jieyisun/opt/miniconda3/envs/TF/lib/python3.9/site-packages (from requests->transformers>=4.19.0->whisper) (2022.9.24)\n",
      "Requirement already satisfied: urllib3<1.27,>=1.21.1 in /Users/jieyisun/opt/miniconda3/envs/TF/lib/python3.9/site-packages (from requests->transformers>=4.19.0->whisper) (1.26.11)\n",
      "\n",
      "\u001b[1m[\u001b[0m\u001b[34;49mnotice\u001b[0m\u001b[1;39;49m]\u001b[0m\u001b[39;49m A new release of pip available: \u001b[0m\u001b[31;49m22.3\u001b[0m\u001b[39;49m -> \u001b[0m\u001b[32;49m22.3.1\u001b[0m\n",
      "\u001b[1m[\u001b[0m\u001b[34;49mnotice\u001b[0m\u001b[1;39;49m]\u001b[0m\u001b[39;49m To update, run: \u001b[0m\u001b[32;49mpip install --upgrade pip\u001b[0m\n"
     ]
    }
   ],
   "source": [
    "! pip install whisper"
   ]
  },
  {
   "cell_type": "code",
   "execution_count": 5,
   "metadata": {},
   "outputs": [
    {
     "name": "stdout",
     "output_type": "stream",
     "text": [
      "Collecting git+https://github.com/openai/whisper.git\n",
      "  Cloning https://github.com/openai/whisper.git to /private/var/folders/st/10phmgqn70791ny3sky2_3d40000gn/T/pip-req-build-7exd9z6o\n",
      "  Running command git clone --filter=blob:none --quiet https://github.com/openai/whisper.git /private/var/folders/st/10phmgqn70791ny3sky2_3d40000gn/T/pip-req-build-7exd9z6o\n",
      "  Resolved https://github.com/openai/whisper.git to commit 9f70a352f9f8630ab3aa0d06af5cb9532bd8c21d\n",
      "  Preparing metadata (setup.py) ... \u001b[?25ldone\n",
      "\u001b[?25hRequirement already satisfied: numpy in /Users/jieyisun/opt/miniconda3/envs/TF/lib/python3.9/site-packages (from whisper==1.0) (1.21.5)\n",
      "Requirement already satisfied: torch in /Users/jieyisun/opt/miniconda3/envs/TF/lib/python3.9/site-packages (from whisper==1.0) (1.12.1)\n",
      "Requirement already satisfied: tqdm in /Users/jieyisun/opt/miniconda3/envs/TF/lib/python3.9/site-packages (from whisper==1.0) (4.64.1)\n",
      "Requirement already satisfied: more-itertools in /Users/jieyisun/opt/miniconda3/envs/TF/lib/python3.9/site-packages (from whisper==1.0) (9.0.0)\n",
      "Requirement already satisfied: transformers>=4.19.0 in /Users/jieyisun/opt/miniconda3/envs/TF/lib/python3.9/site-packages (from whisper==1.0) (4.23.1)\n",
      "Requirement already satisfied: ffmpeg-python==0.2.0 in /Users/jieyisun/opt/miniconda3/envs/TF/lib/python3.9/site-packages (from whisper==1.0) (0.2.0)\n",
      "Requirement already satisfied: future in /Users/jieyisun/opt/miniconda3/envs/TF/lib/python3.9/site-packages (from ffmpeg-python==0.2.0->whisper==1.0) (0.18.2)\n",
      "Requirement already satisfied: pyyaml>=5.1 in /Users/jieyisun/opt/miniconda3/envs/TF/lib/python3.9/site-packages (from transformers>=4.19.0->whisper==1.0) (6.0)\n",
      "Requirement already satisfied: requests in /Users/jieyisun/opt/miniconda3/envs/TF/lib/python3.9/site-packages (from transformers>=4.19.0->whisper==1.0) (2.28.1)\n",
      "Requirement already satisfied: filelock in /Users/jieyisun/opt/miniconda3/envs/TF/lib/python3.9/site-packages (from transformers>=4.19.0->whisper==1.0) (3.8.0)\n",
      "Requirement already satisfied: huggingface-hub<1.0,>=0.10.0 in /Users/jieyisun/opt/miniconda3/envs/TF/lib/python3.9/site-packages (from transformers>=4.19.0->whisper==1.0) (0.10.1)\n",
      "Requirement already satisfied: packaging>=20.0 in /Users/jieyisun/opt/miniconda3/envs/TF/lib/python3.9/site-packages (from transformers>=4.19.0->whisper==1.0) (21.3)\n",
      "Requirement already satisfied: tokenizers!=0.11.3,<0.14,>=0.11.1 in /Users/jieyisun/opt/miniconda3/envs/TF/lib/python3.9/site-packages (from transformers>=4.19.0->whisper==1.0) (0.13.1)\n",
      "Requirement already satisfied: regex!=2019.12.17 in /Users/jieyisun/opt/miniconda3/envs/TF/lib/python3.9/site-packages (from transformers>=4.19.0->whisper==1.0) (2022.9.11)\n",
      "Requirement already satisfied: typing-extensions in /Users/jieyisun/opt/miniconda3/envs/TF/lib/python3.9/site-packages (from torch->whisper==1.0) (4.3.0)\n",
      "Requirement already satisfied: pyparsing!=3.0.5,>=2.0.2 in /Users/jieyisun/opt/miniconda3/envs/TF/lib/python3.9/site-packages (from packaging>=20.0->transformers>=4.19.0->whisper==1.0) (3.0.9)\n",
      "Requirement already satisfied: certifi>=2017.4.17 in /Users/jieyisun/opt/miniconda3/envs/TF/lib/python3.9/site-packages (from requests->transformers>=4.19.0->whisper==1.0) (2022.9.24)\n",
      "Requirement already satisfied: idna<4,>=2.5 in /Users/jieyisun/opt/miniconda3/envs/TF/lib/python3.9/site-packages (from requests->transformers>=4.19.0->whisper==1.0) (3.4)\n",
      "Requirement already satisfied: charset-normalizer<3,>=2 in /Users/jieyisun/opt/miniconda3/envs/TF/lib/python3.9/site-packages (from requests->transformers>=4.19.0->whisper==1.0) (2.1.1)\n",
      "Requirement already satisfied: urllib3<1.27,>=1.21.1 in /Users/jieyisun/opt/miniconda3/envs/TF/lib/python3.9/site-packages (from requests->transformers>=4.19.0->whisper==1.0) (1.26.11)\n",
      "\n",
      "\u001b[1m[\u001b[0m\u001b[34;49mnotice\u001b[0m\u001b[1;39;49m]\u001b[0m\u001b[39;49m A new release of pip available: \u001b[0m\u001b[31;49m22.3\u001b[0m\u001b[39;49m -> \u001b[0m\u001b[32;49m22.3.1\u001b[0m\n",
      "\u001b[1m[\u001b[0m\u001b[34;49mnotice\u001b[0m\u001b[1;39;49m]\u001b[0m\u001b[39;49m To update, run: \u001b[0m\u001b[32;49mpip install --upgrade pip\u001b[0m\n"
     ]
    }
   ],
   "source": [
    "! pip install git+https://github.com/openai/whisper.git \n",
    "import whisper\n",
    "\n",
    "MODEL_TYPE = \"small.en\" # Model size\n",
    "LANGUAGE = \"English\"    # Language\n",
    "BLOCKSIZE = 24678       # Audio chunk size\n",
    "SILENCE_THRESHOLD = 400 # Sample amplitude filter (high pass)\n",
    "SILENCE_RATIO = 100     # Max samples in frame above threshold\n",
    "\n",
    "model = whisper.load_model(MODEL_TYPE)"
   ]
  },
  {
   "cell_type": "markdown",
   "metadata": {},
   "source": [
    "#### Audio Streaming Utility"
   ]
  },
  {
   "cell_type": "code",
   "execution_count": 5,
   "metadata": {},
   "outputs": [
    {
     "name": "stdout",
     "output_type": "stream",
     "text": [
      "Requirement already satisfied: sounddevice in /Users/jieyisun/opt/miniconda3/envs/TF/lib/python3.9/site-packages (0.4.5)\n",
      "Requirement already satisfied: CFFI>=1.0 in /Users/jieyisun/opt/miniconda3/envs/TF/lib/python3.9/site-packages (from sounddevice) (1.15.1)\n",
      "Requirement already satisfied: pycparser in /Users/jieyisun/opt/miniconda3/envs/TF/lib/python3.9/site-packages (from CFFI>=1.0->sounddevice) (2.21)\n",
      "\n",
      "\u001b[1m[\u001b[0m\u001b[34;49mnotice\u001b[0m\u001b[1;39;49m]\u001b[0m\u001b[39;49m A new release of pip available: \u001b[0m\u001b[31;49m22.3\u001b[0m\u001b[39;49m -> \u001b[0m\u001b[32;49m22.3.1\u001b[0m\n",
      "\u001b[1m[\u001b[0m\u001b[34;49mnotice\u001b[0m\u001b[1;39;49m]\u001b[0m\u001b[39;49m To update, run: \u001b[0m\u001b[32;49mpip install --upgrade pip\u001b[0m\n"
     ]
    }
   ],
   "source": [
    "! pip install sounddevice"
   ]
  },
  {
   "cell_type": "code",
   "execution_count": 6,
   "metadata": {},
   "outputs": [],
   "source": [
    "import asyncio\n",
    "import queue\n",
    "import sys\n",
    "\n",
    "import numpy as np\n",
    "import sounddevice as sd\n",
    "\n",
    "input_array = None\n",
    "\n",
    "\n",
    "async def input_streamer():\n",
    "\n",
    "    q_in = asyncio.Queue()\n",
    "    loop = asyncio.get_event_loop()\n",
    "    \n",
    "    def callback(indata, frame_count, time_info, status):\n",
    "        loop.call_soon_threadsafe(q_in.put_nowait, (indata.copy(), status))\n",
    "    \n",
    "    stream = sd.InputStream(samplerate=16000, channels=1, dtype='int16', blocksize=BLOCKSIZE, callback=callback)\n",
    "    \n",
    "    with stream:\n",
    "        while True:\n",
    "            indata, status = await q_in.get()\n",
    "            yield indata, status\n",
    "\n",
    "\n",
    "async def process_audio_buffer():\n",
    "    \n",
    "    global input_array\n",
    "    \n",
    "    async for indata, status in input_streamer():\n",
    "\n",
    "        indata_flattened = abs(indata.flatten())\n",
    "\n",
    "        # discard buffers that contain mostly silence\n",
    "        if(np.asarray(np.where(indata_flattened > SILENCE_THRESHOLD)).size < SILENCE_RATIO):\n",
    "            continue\n",
    "\n",
    "        if (input_array is not None):\n",
    "            input_array = np.concatenate((input_array, indata), dtype='int16')\n",
    "        else:\n",
    "            input_array = indata\n",
    "\n",
    "        # concatenate buffers if the end of the current buffer is not silent\n",
    "        if (np.average((indata_flattened[-100:-1])) > SILENCE_THRESHOLD/15):\n",
    "            continue\n",
    "        else:\n",
    "            local_ndarray = input_array.copy()\n",
    "            input_array = None\n",
    "            indata_transformed = local_ndarray.flatten().astype(np.float32) / 32768.0\n",
    "            result = model.transcribe(indata_transformed, language=LANGUAGE)\n",
    "            print(result[\"text\"])\n",
    "\n",
    "        del local_ndarray\n",
    "        del indata_flattened\n",
    "\n",
    "        \n",
    "async def run_asr_streaming():\n",
    "    \n",
    "    print('\\nListening ...\\n')\n",
    "    \n",
    "    audio_task = asyncio.create_task(process_audio_buffer())\n",
    "    \n",
    "    while True:\n",
    "        await asyncio.sleep(1.0)\n",
    "    audio_task.cancel()\n",
    "    try:\n",
    "        await audio_task\n",
    "    except asyncio.CancelledError:\n",
    "        print('\\nstream closed')"
   ]
  },
  {
   "cell_type": "markdown",
   "metadata": {},
   "source": [
    "### Task 02 (10 pts) Record yourself reading the passage from above\n",
    "\n",
    "This cell streams audio from your microphone to the Whisper model"
   ]
  },
  {
   "cell_type": "code",
   "execution_count": 7,
   "metadata": {},
   "outputs": [
    {
     "name": "stdout",
     "output_type": "stream",
     "text": [
      "\n",
      "Listening ...\n",
      "\n"
     ]
    },
    {
     "ename": "CancelledError",
     "evalue": "",
     "output_type": "error",
     "traceback": [
      "\u001b[0;31m---------------------------------------------------------------------------\u001b[0m",
      "\u001b[0;31mCancelledError\u001b[0m                            Traceback (most recent call last)",
      "\u001b[1;32m/Users/jieyisun/Desktop/580/fall-2022-l10-Freyasun1998/lab-10.ipynb Cell 13\u001b[0m in \u001b[0;36m<cell line: 1>\u001b[0;34m()\u001b[0m\n\u001b[1;32m      <a href='vscode-notebook-cell:/Users/jieyisun/Desktop/580/fall-2022-l10-Freyasun1998/lab-10.ipynb#X16sZmlsZQ%3D%3D?line=0'>1</a>\u001b[0m \u001b[39mtry\u001b[39;00m:\n\u001b[0;32m----> <a href='vscode-notebook-cell:/Users/jieyisun/Desktop/580/fall-2022-l10-Freyasun1998/lab-10.ipynb#X16sZmlsZQ%3D%3D?line=1'>2</a>\u001b[0m     \u001b[39mawait\u001b[39;00m run_asr_streaming()\n\u001b[1;32m      <a href='vscode-notebook-cell:/Users/jieyisun/Desktop/580/fall-2022-l10-Freyasun1998/lab-10.ipynb#X16sZmlsZQ%3D%3D?line=2'>3</a>\u001b[0m \u001b[39mexcept\u001b[39;00m \u001b[39mKeyboardInterrupt\u001b[39;00m:\n\u001b[1;32m      <a href='vscode-notebook-cell:/Users/jieyisun/Desktop/580/fall-2022-l10-Freyasun1998/lab-10.ipynb#X16sZmlsZQ%3D%3D?line=3'>4</a>\u001b[0m     sys\u001b[39m.\u001b[39mexit(\u001b[39m'\u001b[39m\u001b[39m\\n\u001b[39;00m\u001b[39mInterrupted by user\u001b[39m\u001b[39m'\u001b[39m)\n",
      "\u001b[1;32m/Users/jieyisun/Desktop/580/fall-2022-l10-Freyasun1998/lab-10.ipynb Cell 13\u001b[0m in \u001b[0;36mrun_asr_streaming\u001b[0;34m()\u001b[0m\n\u001b[1;32m     <a href='vscode-notebook-cell:/Users/jieyisun/Desktop/580/fall-2022-l10-Freyasun1998/lab-10.ipynb#X16sZmlsZQ%3D%3D?line=61'>62</a>\u001b[0m audio_task \u001b[39m=\u001b[39m asyncio\u001b[39m.\u001b[39mcreate_task(process_audio_buffer())\n\u001b[1;32m     <a href='vscode-notebook-cell:/Users/jieyisun/Desktop/580/fall-2022-l10-Freyasun1998/lab-10.ipynb#X16sZmlsZQ%3D%3D?line=63'>64</a>\u001b[0m \u001b[39mwhile\u001b[39;00m \u001b[39mTrue\u001b[39;00m:\n\u001b[0;32m---> <a href='vscode-notebook-cell:/Users/jieyisun/Desktop/580/fall-2022-l10-Freyasun1998/lab-10.ipynb#X16sZmlsZQ%3D%3D?line=64'>65</a>\u001b[0m     \u001b[39mawait\u001b[39;00m asyncio\u001b[39m.\u001b[39msleep(\u001b[39m1.0\u001b[39m)\n\u001b[1;32m     <a href='vscode-notebook-cell:/Users/jieyisun/Desktop/580/fall-2022-l10-Freyasun1998/lab-10.ipynb#X16sZmlsZQ%3D%3D?line=65'>66</a>\u001b[0m audio_task\u001b[39m.\u001b[39mcancel()\n\u001b[1;32m     <a href='vscode-notebook-cell:/Users/jieyisun/Desktop/580/fall-2022-l10-Freyasun1998/lab-10.ipynb#X16sZmlsZQ%3D%3D?line=66'>67</a>\u001b[0m \u001b[39mtry\u001b[39;00m:\n",
      "File \u001b[0;32m~/opt/miniconda3/envs/TF/lib/python3.9/asyncio/tasks.py:652\u001b[0m, in \u001b[0;36msleep\u001b[0;34m(delay, result, loop)\u001b[0m\n\u001b[1;32m    648\u001b[0m h \u001b[39m=\u001b[39m loop\u001b[39m.\u001b[39mcall_later(delay,\n\u001b[1;32m    649\u001b[0m                     futures\u001b[39m.\u001b[39m_set_result_unless_cancelled,\n\u001b[1;32m    650\u001b[0m                     future, result)\n\u001b[1;32m    651\u001b[0m \u001b[39mtry\u001b[39;00m:\n\u001b[0;32m--> 652\u001b[0m     \u001b[39mreturn\u001b[39;00m \u001b[39mawait\u001b[39;00m future\n\u001b[1;32m    653\u001b[0m \u001b[39mfinally\u001b[39;00m:\n\u001b[1;32m    654\u001b[0m     h\u001b[39m.\u001b[39mcancel()\n",
      "\u001b[0;31mCancelledError\u001b[0m: "
     ]
    }
   ],
   "source": [
    "try:\n",
    "    await run_asr_streaming()\n",
    "except KeyboardInterrupt:\n",
    "    sys.exit('\\nInterrupted by user')"
   ]
  },
  {
   "cell_type": "code",
   "execution_count": 21,
   "metadata": {},
   "outputs": [
    {
     "name": "stdout",
     "output_type": "stream",
     "text": [
      "Requirement already satisfied: ffmpeg-python in /Users/jieyisun/opt/miniconda3/envs/TF/lib/python3.9/site-packages (0.2.0)\n",
      "Requirement already satisfied: future in /Users/jieyisun/opt/miniconda3/envs/TF/lib/python3.9/site-packages (from ffmpeg-python) (0.18.2)\n",
      "\n",
      "\u001b[1m[\u001b[0m\u001b[34;49mnotice\u001b[0m\u001b[1;39;49m]\u001b[0m\u001b[39;49m A new release of pip available: \u001b[0m\u001b[31;49m22.3\u001b[0m\u001b[39;49m -> \u001b[0m\u001b[32;49m22.3.1\u001b[0m\n",
      "\u001b[1m[\u001b[0m\u001b[34;49mnotice\u001b[0m\u001b[1;39;49m]\u001b[0m\u001b[39;49m To update, run: \u001b[0m\u001b[32;49mpip install --upgrade pip\u001b[0m\n"
     ]
    }
   ],
   "source": [
    "# ! conda install ffmpeg-python\n",
    "! conda install -c conda-forge ffmpeg"
   ]
  },
  {
   "cell_type": "code",
   "execution_count": 9,
   "metadata": {},
   "outputs": [
    {
     "name": "stderr",
     "output_type": "stream",
     "text": [
      "/Users/jieyisun/opt/miniconda3/envs/TF/lib/python3.9/site-packages/whisper/transcribe.py:78: UserWarning: FP16 is not supported on CPU; using FP32 instead\n",
      "  warnings.warn(\"FP16 is not supported on CPU; using FP32 instead\")\n"
     ]
    },
    {
     "name": "stdout",
     "output_type": "stream",
     "text": [
      " Greatness is a transitory experience. It's never consistent. It depends in part upon the myth-making, imagination of humankind. The person who experiences greatness must have a feeling for the myth he's in. He must reflect what is projected upon him, and he must have a strong sense of sardonic. This is what encompasses him from belief in his own pretensions. The sardonic is all that permits him to move within himself. Without this quality, even occasional greatness will destroy your man.\n"
     ]
    }
   ],
   "source": [
    "# Your code goes here ...\n",
    "result = model.transcribe(\"greatness.mp3\")\n",
    "print(result[\"text\"])\n",
    "#Store the model transcription in the `transcription` variable below\n",
    "transcription = result[\"text\"]"
   ]
  },
  {
   "cell_type": "markdown",
   "metadata": {},
   "source": [
    "### Task 03 (10 pts) Compute the Word Error Rate (WER) of the transcribed audio"
   ]
  },
  {
   "cell_type": "code",
   "execution_count": 10,
   "metadata": {},
   "outputs": [
    {
     "name": "stdout",
     "output_type": "stream",
     "text": [
      "WER: 0.9166666666666666\n"
     ]
    }
   ],
   "source": [
    "# Your code goes here ...\n",
    "true=excerpt.split()\n",
    "pred=transcription.split()\n",
    "error=0\n",
    "j=0\n",
    "for i in range(len(true)):\n",
    "    if j<len(pred) and true[i]==pred[j]:\n",
    "        j+=1\n",
    "        continue\n",
    "    else:\n",
    "        #If corresponding pos does not match, check the next 3 pos\n",
    "        match=False\n",
    "        for k in [j+1,j+2,j+3]:\n",
    "            if k<len(pred) and true[i]==pred[k]:\n",
    "                j=k\n",
    "                match=True\n",
    "                break\n",
    "        if match:continue\n",
    "        else:\n",
    "            #still does not match, skip this pred word and true word\n",
    "            j+=2\n",
    "            error+=1\n",
    "\n",
    "print('WER:',error/len(true))"
   ]
  }
 ],
 "metadata": {
  "kernelspec": {
   "display_name": "Python 3.9.12 ('TF')",
   "language": "python",
   "name": "python3"
  },
  "language_info": {
   "codemirror_mode": {
    "name": "ipython",
    "version": 3
   },
   "file_extension": ".py",
   "mimetype": "text/x-python",
   "name": "python",
   "nbconvert_exporter": "python",
   "pygments_lexer": "ipython3",
   "version": "3.9.12"
  },
  "vscode": {
   "interpreter": {
    "hash": "263286f8e555d11a2898a0ec2a3edf48167460b52a6319f3c1490d6e47c59551"
   }
  }
 },
 "nbformat": 4,
 "nbformat_minor": 4
}
